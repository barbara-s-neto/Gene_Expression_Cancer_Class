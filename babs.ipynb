{
 "cells": [
  {
   "cell_type": "code",
   "execution_count": 46,
   "id": "1534efa5",
   "metadata": {},
   "outputs": [],
   "source": [
    "from sklearn.preprocessing import StandardScaler\n",
    "from sklearn.feature_selection import VarianceThreshold\n",
    "import pandas as pd\n",
    "from sklearn.decomposition import PCA\n",
    "from sklearn.cluster import KMeans, AgglomerativeClustering\n",
    "from sklearn.feature_selection import SelectKBest, f_classif\n",
    "import matplotlib.pyplot as plt\n",
    "import numpy as np"
   ]
  },
  {
   "cell_type": "markdown",
   "id": "03312d4c",
   "metadata": {},
   "source": [
    "# BioInformatica #2"
   ]
  },
  {
   "cell_type": "markdown",
   "id": "c7fdd77d",
   "metadata": {},
   "source": [
    "## Data Spliting"
   ]
  },
  {
   "cell_type": "code",
   "execution_count": 20,
   "id": "0dd5228f",
   "metadata": {},
   "outputs": [
    {
     "data": {
      "text/html": [
       "<div>\n",
       "<style scoped>\n",
       "    .dataframe tbody tr th:only-of-type {\n",
       "        vertical-align: middle;\n",
       "    }\n",
       "\n",
       "    .dataframe tbody tr th {\n",
       "        vertical-align: top;\n",
       "    }\n",
       "\n",
       "    .dataframe thead th {\n",
       "        text-align: right;\n",
       "    }\n",
       "</style>\n",
       "<table border=\"1\" class=\"dataframe\">\n",
       "  <thead>\n",
       "    <tr style=\"text-align: right;\">\n",
       "      <th></th>\n",
       "      <th>FSTL1</th>\n",
       "      <th>ELMO2</th>\n",
       "      <th>CREB3L1</th>\n",
       "      <th>PNMA1</th>\n",
       "      <th>MMP2</th>\n",
       "      <th>SMARCD3</th>\n",
       "      <th>PKNOX2</th>\n",
       "      <th>RALYL</th>\n",
       "      <th>ZHX3</th>\n",
       "      <th>APBB2</th>\n",
       "      <th>...</th>\n",
       "      <th>ST18</th>\n",
       "      <th>PSMB9</th>\n",
       "      <th>ProSAPiP1</th>\n",
       "      <th>HCLS1</th>\n",
       "      <th>MMP9</th>\n",
       "      <th>KIAA0802</th>\n",
       "      <th>DHRS2</th>\n",
       "      <th>SGEF</th>\n",
       "      <th>PIK3IP1</th>\n",
       "      <th>CTSC</th>\n",
       "    </tr>\n",
       "  </thead>\n",
       "  <tbody>\n",
       "    <tr>\n",
       "      <th>0</th>\n",
       "      <td>2.275179</td>\n",
       "      <td>1.873549</td>\n",
       "      <td>1.772059</td>\n",
       "      <td>2.144198</td>\n",
       "      <td>2.269443</td>\n",
       "      <td>1.742389</td>\n",
       "      <td>1.797055</td>\n",
       "      <td>1.677848</td>\n",
       "      <td>1.801352</td>\n",
       "      <td>1.786488</td>\n",
       "      <td>...</td>\n",
       "      <td>1.669895</td>\n",
       "      <td>2.346811</td>\n",
       "      <td>2.004333</td>\n",
       "      <td>2.213310</td>\n",
       "      <td>2.407606</td>\n",
       "      <td>2.083333</td>\n",
       "      <td>2.098461</td>\n",
       "      <td>1.680092</td>\n",
       "      <td>1.953595</td>\n",
       "      <td>2.429578</td>\n",
       "    </tr>\n",
       "    <tr>\n",
       "      <th>1</th>\n",
       "      <td>2.569520</td>\n",
       "      <td>2.085888</td>\n",
       "      <td>1.961846</td>\n",
       "      <td>2.315705</td>\n",
       "      <td>2.505400</td>\n",
       "      <td>2.226593</td>\n",
       "      <td>1.798769</td>\n",
       "      <td>1.671170</td>\n",
       "      <td>2.000942</td>\n",
       "      <td>2.089285</td>\n",
       "      <td>...</td>\n",
       "      <td>1.516024</td>\n",
       "      <td>2.339930</td>\n",
       "      <td>2.045828</td>\n",
       "      <td>2.285701</td>\n",
       "      <td>2.633632</td>\n",
       "      <td>1.938474</td>\n",
       "      <td>1.614437</td>\n",
       "      <td>1.760419</td>\n",
       "      <td>2.010156</td>\n",
       "      <td>2.431814</td>\n",
       "    </tr>\n",
       "    <tr>\n",
       "      <th>2</th>\n",
       "      <td>2.471492</td>\n",
       "      <td>2.030865</td>\n",
       "      <td>1.845808</td>\n",
       "      <td>2.072279</td>\n",
       "      <td>2.346815</td>\n",
       "      <td>1.783762</td>\n",
       "      <td>1.707150</td>\n",
       "      <td>1.599492</td>\n",
       "      <td>1.823480</td>\n",
       "      <td>1.778307</td>\n",
       "      <td>...</td>\n",
       "      <td>1.527561</td>\n",
       "      <td>2.302006</td>\n",
       "      <td>2.059862</td>\n",
       "      <td>2.130193</td>\n",
       "      <td>2.349831</td>\n",
       "      <td>1.815239</td>\n",
       "      <td>1.857933</td>\n",
       "      <td>1.675823</td>\n",
       "      <td>2.011970</td>\n",
       "      <td>2.434026</td>\n",
       "    </tr>\n",
       "    <tr>\n",
       "      <th>3</th>\n",
       "      <td>2.464403</td>\n",
       "      <td>2.094165</td>\n",
       "      <td>1.762169</td>\n",
       "      <td>2.374129</td>\n",
       "      <td>2.213562</td>\n",
       "      <td>2.209426</td>\n",
       "      <td>1.925440</td>\n",
       "      <td>1.936043</td>\n",
       "      <td>2.003743</td>\n",
       "      <td>2.024847</td>\n",
       "      <td>...</td>\n",
       "      <td>1.611626</td>\n",
       "      <td>2.208924</td>\n",
       "      <td>2.050555</td>\n",
       "      <td>2.213955</td>\n",
       "      <td>1.982603</td>\n",
       "      <td>2.125508</td>\n",
       "      <td>1.631955</td>\n",
       "      <td>1.881003</td>\n",
       "      <td>1.886280</td>\n",
       "      <td>2.450704</td>\n",
       "    </tr>\n",
       "    <tr>\n",
       "      <th>4</th>\n",
       "      <td>2.365457</td>\n",
       "      <td>2.188070</td>\n",
       "      <td>1.763206</td>\n",
       "      <td>2.340024</td>\n",
       "      <td>2.219210</td>\n",
       "      <td>2.308335</td>\n",
       "      <td>1.801007</td>\n",
       "      <td>1.756726</td>\n",
       "      <td>2.115714</td>\n",
       "      <td>2.086733</td>\n",
       "      <td>...</td>\n",
       "      <td>1.570489</td>\n",
       "      <td>2.187420</td>\n",
       "      <td>2.265522</td>\n",
       "      <td>2.192262</td>\n",
       "      <td>1.796491</td>\n",
       "      <td>1.979615</td>\n",
       "      <td>1.637215</td>\n",
       "      <td>2.182186</td>\n",
       "      <td>1.897957</td>\n",
       "      <td>2.140727</td>\n",
       "    </tr>\n",
       "  </tbody>\n",
       "</table>\n",
       "<p>5 rows × 5000 columns</p>\n",
       "</div>"
      ],
      "text/plain": [
       "      FSTL1     ELMO2   CREB3L1     PNMA1      MMP2   SMARCD3    PKNOX2  \\\n",
       "0  2.275179  1.873549  1.772059  2.144198  2.269443  1.742389  1.797055   \n",
       "1  2.569520  2.085888  1.961846  2.315705  2.505400  2.226593  1.798769   \n",
       "2  2.471492  2.030865  1.845808  2.072279  2.346815  1.783762  1.707150   \n",
       "3  2.464403  2.094165  1.762169  2.374129  2.213562  2.209426  1.925440   \n",
       "4  2.365457  2.188070  1.763206  2.340024  2.219210  2.308335  1.801007   \n",
       "\n",
       "      RALYL      ZHX3     APBB2  ...      ST18     PSMB9  ProSAPiP1     HCLS1  \\\n",
       "0  1.677848  1.801352  1.786488  ...  1.669895  2.346811   2.004333  2.213310   \n",
       "1  1.671170  2.000942  2.089285  ...  1.516024  2.339930   2.045828  2.285701   \n",
       "2  1.599492  1.823480  1.778307  ...  1.527561  2.302006   2.059862  2.130193   \n",
       "3  1.936043  2.003743  2.024847  ...  1.611626  2.208924   2.050555  2.213955   \n",
       "4  1.756726  2.115714  2.086733  ...  1.570489  2.187420   2.265522  2.192262   \n",
       "\n",
       "       MMP9  KIAA0802     DHRS2      SGEF   PIK3IP1      CTSC  \n",
       "0  2.407606  2.083333  2.098461  1.680092  1.953595  2.429578  \n",
       "1  2.633632  1.938474  1.614437  1.760419  2.010156  2.431814  \n",
       "2  2.349831  1.815239  1.857933  1.675823  2.011970  2.434026  \n",
       "3  1.982603  2.125508  1.631955  1.881003  1.886280  2.450704  \n",
       "4  1.796491  1.979615  1.637215  2.182186  1.897957  2.140727  \n",
       "\n",
       "[5 rows x 5000 columns]"
      ]
     },
     "execution_count": 20,
     "metadata": {},
     "output_type": "execute_result"
    }
   ],
   "source": [
    "df_X = pd.read_csv('X_gexp.csv')\n",
    "df_Y = pd.read_csv('y_gexp.csv')\n",
    "df_X.drop(columns=[\"Unnamed: 0\"],inplace=True)\n",
    "df_Y.drop(columns=[\"Unnamed: 0\"],inplace=True)\n",
    "df_X.head()"
   ]
  },
  {
   "cell_type": "code",
   "execution_count": 21,
   "id": "ef79af3f",
   "metadata": {},
   "outputs": [
    {
     "data": {
      "text/plain": [
       "(302, 5000)"
      ]
     },
     "execution_count": 21,
     "metadata": {},
     "output_type": "execute_result"
    }
   ],
   "source": [
    "df_X.shape"
   ]
  },
  {
   "cell_type": "code",
   "execution_count": 22,
   "id": "13125344",
   "metadata": {},
   "outputs": [
    {
     "data": {
      "text/plain": [
       "FSTL1       0\n",
       "ELMO2       0\n",
       "CREB3L1     0\n",
       "PNMA1       0\n",
       "MMP2        0\n",
       "           ..\n",
       "KIAA0802    0\n",
       "DHRS2       0\n",
       "SGEF        0\n",
       "PIK3IP1     0\n",
       "CTSC        0\n",
       "Length: 5000, dtype: int64"
      ]
     },
     "execution_count": 22,
     "metadata": {},
     "output_type": "execute_result"
    }
   ],
   "source": [
    "df_X.isna().sum()"
   ]
  },
  {
   "cell_type": "code",
   "execution_count": 38,
   "id": "d33107a9",
   "metadata": {},
   "outputs": [
    {
     "data": {
      "text/html": [
       "<div>\n",
       "<style scoped>\n",
       "    .dataframe tbody tr th:only-of-type {\n",
       "        vertical-align: middle;\n",
       "    }\n",
       "\n",
       "    .dataframe tbody tr th {\n",
       "        vertical-align: top;\n",
       "    }\n",
       "\n",
       "    .dataframe thead th {\n",
       "        text-align: right;\n",
       "    }\n",
       "</style>\n",
       "<table border=\"1\" class=\"dataframe\">\n",
       "  <thead>\n",
       "    <tr style=\"text-align: right;\">\n",
       "      <th></th>\n",
       "      <th>x</th>\n",
       "    </tr>\n",
       "  </thead>\n",
       "  <tbody>\n",
       "    <tr>\n",
       "      <th>0</th>\n",
       "      <td>0</td>\n",
       "    </tr>\n",
       "    <tr>\n",
       "      <th>1</th>\n",
       "      <td>1</td>\n",
       "    </tr>\n",
       "    <tr>\n",
       "      <th>2</th>\n",
       "      <td>0</td>\n",
       "    </tr>\n",
       "    <tr>\n",
       "      <th>3</th>\n",
       "      <td>0</td>\n",
       "    </tr>\n",
       "    <tr>\n",
       "      <th>4</th>\n",
       "      <td>0</td>\n",
       "    </tr>\n",
       "  </tbody>\n",
       "</table>\n",
       "</div>"
      ],
      "text/plain": [
       "   x\n",
       "0  0\n",
       "1  1\n",
       "2  0\n",
       "3  0\n",
       "4  0"
      ]
     },
     "execution_count": 38,
     "metadata": {},
     "output_type": "execute_result"
    }
   ],
   "source": [
    "df_Y.head()"
   ]
  },
  {
   "cell_type": "markdown",
   "id": "a3f94317",
   "metadata": {},
   "source": [
    "## Data Pre Processing"
   ]
  },
  {
   "cell_type": "code",
   "execution_count": 23,
   "id": "34d5d91b",
   "metadata": {},
   "outputs": [],
   "source": [
    "scaler = StandardScaler()\n",
    "X_scaled = scaler.fit_transform(df_X)"
   ]
  },
  {
   "cell_type": "markdown",
   "id": "92946816",
   "metadata": {},
   "source": [
    "## Feature selection"
   ]
  },
  {
   "cell_type": "markdown",
   "id": "30eff0ae",
   "metadata": {},
   "source": [
    "Minimal Variance Treshold:\n",
    "\n",
    "* Removes low-variance features (assumes features are on the same scale).\n",
    "\n",
    "* If features are not scaled, variance will be biased toward features with larger magnitudes.\n",
    "\n",
    "* Needs StandardScaler before applying.\n",
    "\n",
    "The treshold means ....., and by increasing this hyperparanter the number of features decreases."
   ]
  },
  {
   "cell_type": "code",
   "execution_count": null,
   "id": "ccdc791e",
   "metadata": {},
   "outputs": [
    {
     "name": "stdout",
     "output_type": "stream",
     "text": [
      "Selected features: Index(['FSTL1', 'PNMA1', 'BBOX1', 'EDN1', 'CRNKL1', 'BANK1', 'NR4A2',\n",
      "       'MAP1LC3C', 'SLCO2B1', 'ANKRD6',\n",
      "       ...\n",
      "       'GAB1', 'CP', 'G6PC3', 'NDUFS7', 'S100A13', 'RPS6KA3', 'DACT1', 'EAF2',\n",
      "       'HCLS1', 'PIK3IP1'],\n",
      "      dtype='object', length=981)\n"
     ]
    }
   ],
   "source": [
    "variance = VarianceThreshold(threshold=1.0) \n",
    "X_filtered = variance.fit_transform(X_scaled)\n",
    "selected_features_variance = df_X.columns[variance.get_support()]\n",
    "print(\"Selected features:\", selected_features_variance)"
   ]
  },
  {
   "cell_type": "markdown",
   "id": "5377ee84",
   "metadata": {},
   "source": [
    "Principal Component Analysis (PCA)\n",
    "\n",
    "* PCA is variance-based and highly sensitive to feature scales.\n",
    "\n",
    "* Needs StandardScaler before applying."
   ]
  },
  {
   "cell_type": "code",
   "execution_count": 41,
   "id": "5d6bb2b0",
   "metadata": {},
   "outputs": [
    {
     "name": "stdout",
     "output_type": "stream",
     "text": [
      "Explained variance ratio: [0.20340018 0.11477919 0.07821268 0.03545906 0.0308693  0.02112771\n",
      " 0.02090315 0.01875553 0.01597494 0.01560346 0.01439048 0.01384711\n",
      " 0.0110561  0.00981724 0.00974779 0.00868764 0.00824579 0.00797324\n",
      " 0.00761317 0.00741741 0.00706661 0.0066442  0.00651056 0.00623483\n",
      " 0.00584102 0.00566617 0.00553621 0.00515573 0.00507862 0.00483169\n",
      " 0.00461656 0.00459624 0.00444038 0.00430193 0.00400767 0.00393192\n",
      " 0.00386651 0.00384336 0.00365156 0.00357042 0.00350832 0.00345822\n",
      " 0.0033634  0.00324607 0.00308716 0.00304122 0.00294507 0.00287947\n",
      " 0.00283553 0.0027914  0.00275843 0.00271642 0.00266701 0.00261579\n",
      " 0.00255127 0.00254202 0.00246241 0.00241631 0.00237861 0.00229144\n",
      " 0.00226327 0.00225421 0.00219408 0.00216979 0.00215688 0.00212784\n",
      " 0.00208422 0.00201147 0.00197534 0.00195987 0.00193366 0.00189545\n",
      " 0.00186948 0.00184815 0.00179394 0.00177606 0.00175101 0.00171196\n",
      " 0.00168939 0.00167262 0.00164485 0.00163102 0.00162419 0.00157123\n",
      " 0.00155399 0.00153307 0.00151156 0.001495   0.00147867 0.00147416\n",
      " 0.00145003 0.00142877 0.00139519 0.00137933 0.00137393 0.00135812\n",
      " 0.00133591 0.00131343 0.00128902 0.00128123 0.00127666 0.00126553\n",
      " 0.00125354 0.00123551 0.00121684 0.00120966 0.00119898 0.00118487\n",
      " 0.00116015 0.00114485 0.00112829 0.00112281 0.00110965 0.00110664\n",
      " 0.00108762 0.00107179 0.00106242 0.00105623 0.00105126 0.00104432\n",
      " 0.00103373 0.00102175 0.00101354 0.00100867 0.00099886 0.00098909\n",
      " 0.00098507 0.00097282 0.00096761 0.00095773 0.00094622 0.00093919\n",
      " 0.00092835 0.00092617 0.00091058 0.00090315 0.00089621 0.00088226\n",
      " 0.00086551 0.00085972 0.00085763 0.00084564 0.00083862 0.00083213\n",
      " 0.00082733 0.00082229 0.00080659 0.00080438 0.00079941 0.00078683\n",
      " 0.00077808 0.00077636 0.00077397 0.00076659 0.00076322 0.00076171\n",
      " 0.0007476  0.00074502 0.00073858 0.0007342  0.00072918 0.00072694\n",
      " 0.00071966 0.0007151  0.00071251 0.00070676 0.00069682 0.00069336\n",
      " 0.00068526 0.00068093 0.00067716 0.00067489 0.00066755 0.00066431\n",
      " 0.0006558  0.00065212 0.00064934 0.00064791 0.00064302 0.0006361\n",
      " 0.00063298 0.00062358 0.0006222  0.00061903 0.00061449 0.00060594\n",
      " 0.00060332 0.00059831 0.00059467 0.00059014 0.00058927 0.0005801\n",
      " 0.00057927 0.00057643 0.00057156 0.00056531 0.00056277 0.00056105\n",
      " 0.00055763 0.0005539  0.00054765 0.0005461  0.00054391 0.00053572\n",
      " 0.00053208 0.00052962 0.00052655 0.00052253 0.00052041 0.00051588\n",
      " 0.0005091  0.0005059  0.00050182 0.0004999  0.00049636 0.00049403\n",
      " 0.00049252 0.00049028 0.00048524 0.00048144 0.00048045 0.00047832\n",
      " 0.00047693 0.00047213 0.00047122 0.00046585 0.00046296 0.00046062\n",
      " 0.00045859 0.00045253 0.00044467 0.0004424  0.00043884 0.00043588\n",
      " 0.00043042 0.0004295  0.00042421 0.00042226 0.00042166 0.0004179\n",
      " 0.00041698 0.00041624 0.00041244 0.00040814 0.00040575 0.00040059\n",
      " 0.00039783 0.00039564 0.0003915  0.0003899  0.00038704 0.00038447\n",
      " 0.00038051 0.00037836 0.00037688 0.00037398 0.00036914 0.00036654\n",
      " 0.00036408 0.00036137 0.0003591  0.00035639 0.00035394 0.00035173\n",
      " 0.00034782]\n",
      "Number of components kept: 265\n"
     ]
    }
   ],
   "source": [
    "pca = PCA(n_components=0.99, random_state=42)\n",
    "X_pca = pca.fit_transform(X_scaled)\n",
    "print(\"Explained variance ratio:\", pca.explained_variance_ratio_)\n",
    "print(\"Number of components kept:\", pca.n_components_)"
   ]
  },
  {
   "cell_type": "markdown",
   "id": "a94ab6dc",
   "metadata": {},
   "source": [
    "Clustering-based Methods (if used for feature selection)\n",
    "\n",
    "* Methods like K-means rely on Euclidean distance, which is scale-dependent.\n",
    "\n",
    "* Needs StandardScaler before applying."
   ]
  },
  {
   "cell_type": "code",
   "execution_count": null,
   "id": "c4f0c993",
   "metadata": {},
   "outputs": [],
   "source": [
    "#idk bro"
   ]
  },
  {
   "cell_type": "markdown",
   "id": "6a205707",
   "metadata": {},
   "source": [
    "ANOVA F-test\n",
    "\n",
    "* Measures the relationship between each feature and the target variable (categorical).\n",
    "\n",
    "* Based on variance ratios, not absolute values.\n",
    "\n",
    "* Does not need StandardScaler."
   ]
  },
  {
   "cell_type": "code",
   "execution_count": null,
   "id": "52b52fab",
   "metadata": {},
   "outputs": [
    {
     "name": "stdout",
     "output_type": "stream",
     "text": [
      "Selected Features: Index(['POMT1', 'HK3', 'CAMK2B', 'FOLR2', 'FPR1', 'EGFR', 'ACSL1', 'HIP1R',\n",
      "       'SLC7A7', 'IL10RA',\n",
      "       ...\n",
      "       'DKK1', 'OLFML2B', 'ARC', 'RAB27A', 'ASCL1', 'UAP1', 'VAV1', 'CSF2RB',\n",
      "       'SGEF', 'CTSC'],\n",
      "      dtype='object', length=150)\n"
     ]
    },
    {
     "name": "stderr",
     "output_type": "stream",
     "text": [
      "/usr/local/lib/python3.10/dist-packages/sklearn/utils/validation.py:1408: DataConversionWarning: A column-vector y was passed when a 1d array was expected. Please change the shape of y to (n_samples, ), for example using ravel().\n",
      "  y = column_or_1d(y, warn=True)\n"
     ]
    }
   ],
   "source": [
    "k = 500 \n",
    "anova = SelectKBest(score_func=f_classif, k=k)\n",
    "X_selected = anova.fit_transform(df_X, df_Y)\n",
    "\n",
    "selected_features_anova = df_X.columns[anova.get_support()]\n",
    "print(\"Selected Features:\", selected_features_anova)"
   ]
  },
  {
   "cell_type": "markdown",
   "id": "fa0635f2",
   "metadata": {},
   "source": [
    "Correlation with the Target Variable\n",
    "\n",
    "* Does not use StandardScaler"
   ]
  },
  {
   "cell_type": "code",
   "execution_count": null,
   "id": "ecc28e14",
   "metadata": {},
   "outputs": [
    {
     "name": "stdout",
     "output_type": "stream",
     "text": [
      "Top correlated features:\n",
      "CSTA       0.638624\n",
      "TNFAIP8    0.636948\n",
      "BCAN       0.629344\n",
      "CTSC       0.626365\n",
      "ARPC1B     0.622097\n",
      "SLAMF8     0.603908\n",
      "IL1R1      0.602104\n",
      "IFI30      0.588972\n",
      "RAB27A     0.585345\n",
      "GAS1       0.581443\n",
      "EGFR       0.581213\n",
      "PLAUR      0.576623\n",
      "WSCD1      0.574798\n",
      "CSPG5      0.574032\n",
      "OLIG2      0.573298\n",
      "MAP3K8     0.572961\n",
      "SEZ6L      0.571512\n",
      "GCNT1      0.569868\n",
      "ARC        0.568681\n",
      "LY96       0.565789\n",
      "Name: x, dtype: float64\n"
     ]
    }
   ],
   "source": [
    "correlation_matrix = pd.concat([df_X, df_Y], axis=1).corr()\n",
    "target_correlation = correlation_matrix[df_Y.columns[0]].abs().sort_values(ascending=False)\n",
    "selected_features_correlation = target_correlation.drop(df_Y.columns[0])\n",
    "\n",
    "print(\"Top correlated features:\")\n",
    "print(selected_features_correlation.head(20))"
   ]
  },
  {
   "cell_type": "code",
   "execution_count": 72,
   "id": "8a5a723e",
   "metadata": {},
   "outputs": [
    {
     "data": {
      "image/png": "[encoded data removed]",
      "text/plain": [
       "<Figure size 1200x800 with 1 Axes>"
      ]
     },
     "metadata": {},
     "output_type": "display_data"
    }
   ],
   "source": [
    "plt.figure(figsize=(12, 8))\n",
    "\n",
    "# --- 1. VarianceThreshold (based on selected features only) ---\n",
    "selected_variances = np.var(X_scaled[:, variance.get_support()], axis=0)\n",
    "sorted_selected_variances = np.sort(selected_variances)[::-1]\n",
    "cumulative_variance_selected = np.cumsum(sorted_selected_variances) / np.sum(np.var(X_scaled, axis=0))\n",
    "plt.plot(range(1, len(cumulative_variance_selected)+1), \n",
    "         cumulative_variance_selected, linestyle='-',  color=\"red\",\n",
    "         label='Variance Threshold (>1.0)', linewidth=2)\n",
    "\n",
    "# --- 2. PCA ---\n",
    "pca_cumulative = np.cumsum(pca.explained_variance_ratio_)\n",
    "plt.plot(range(1, min(501, len(pca_cumulative)+1)), \n",
    "         pca_cumulative[:500], linestyle='-',\n",
    "         label='PCA', linewidth=2)\n",
    "\n",
    "# --- 3. ANOVA ---\n",
    "anova_scores = anova.scores_\n",
    "sorted_indices = np.argsort(anova_scores)[::-1]\n",
    "sorted_variances_anova = np.var(X_scaled, axis=0)[sorted_indices]\n",
    "cumulative_variance_anova = np.cumsum(sorted_variances_anova) / np.sum(np.var(X_scaled, axis=0))\n",
    "plt.plot(range(1, min(501, len(cumulative_variance_anova)+1)), \n",
    "         cumulative_variance_anova[:500], linestyle='-.', color=\"yellow\",\n",
    "         label='ANOVA F-value', linewidth=2)\n",
    "\n",
    "# --- 4. Target Correlation ---\n",
    "cumulative_variance_corr = np.cumsum(target_correlation) / np.sum(np.var(X_scaled, axis=0))\n",
    "plt.plot(range(1, min(501, len(cumulative_variance_corr)+1)), \n",
    "         cumulative_variance_corr[:500], linestyle='-', color=\"purple\",\n",
    "         label='Target Correlation', linewidth=2)\n",
    "\n",
    "# --- Final plot customization ---\n",
    "plt.xlabel('Number of Features', fontsize=12)\n",
    "plt.ylabel('Cumulative Explained Variance', fontsize=12)\n",
    "plt.title('Feature Selection Methods Comparison', fontsize=14)\n",
    "plt.legend(fontsize=12)\n",
    "plt.grid(alpha=0.3)\n",
    "plt.xlim(1, min(500, X_scaled.shape[1]))\n",
    "plt.tight_layout()\n",
    "plt.show()\n",
    "\n"
   ]
  },
  {
   "cell_type": "markdown",
   "id": "e06c89f9",
   "metadata": {},
   "source": [
    "## Model training"
   ]
  },
  {
   "cell_type": "markdown",
   "id": "4f5786ff",
   "metadata": {},
   "source": [
    "### Unsupervised Learning"
   ]
  },
  {
   "cell_type": "markdown",
   "id": "585a5764",
   "metadata": {},
   "source": [
    "### Supervised Learning"
   ]
  },
  {
   "cell_type": "markdown",
   "id": "80035db4",
   "metadata": {},
   "source": [
    "## Model testing"
   ]
  }
 ],
 "metadata": {
  "kernelspec": {
   "display_name": "Python 3",
   "language": "python",
   "name": "python3"
  },
  "language_info": {
   "codemirror_mode": {
    "name": "ipython",
    "version": 3
   },
   "file_extension": ".py",
   "mimetype": "text/x-python",
   "name": "python",
   "nbconvert_exporter": "python",
   "pygments_lexer": "ipython3",
   "version": "3.10.12"
  }
 },
 "nbformat": 4,
 "nbformat_minor": 5
}
